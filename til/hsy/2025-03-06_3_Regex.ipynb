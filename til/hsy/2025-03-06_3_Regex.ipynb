{
 "cells": [
  {
   "cell_type": "markdown",
   "metadata": {},
   "source": [
    "## 정규표현식 (Regex, Regular Expression)\n",
    "\n",
    "- 문자열에서 특정 패턴을 찾거나 변화할 때 사용하는 도구\n",
    "\n",
    "- 데이터를 빠르게 정리할 수 있음 -> 대량의 텍스트에서 특정 패턴을 빠르게 찾을 수 있음\n",
    "\n",
    "- 코드를 단순화할 수 있음 -> 문자열 처리에 if-else 같은 복잡한 조건문을 쓰지 않고도 간단한 표현으로 해결\n",
    "\n",
    "- 다양한 분야에서 사용됨 -> NLP 뿐만 아니라 데이터 분석, 로그 파일 처리, 웹 크롤링, 보안 필터링 등 활용 범위가 넓음"
   ]
  },
  {
   "cell_type": "markdown",
   "metadata": {},
   "source": [
    "\n",
    "|활용 분야|정규표현식의 역할|예제|\n",
    "|------|---|---|\n",
    "|텍스트 전처리|불필요한 문자 제거|```\"안녕하세요!^^\"``` -> ```\"안녕하세요\"```|\n",
    "|토큰화(Tokenization) 보조|문장을 단어로 분리할 때 사용|```\"Hello, world!\"``` -> ```\"Hello\"```, ```\"world\"```|\n",
    "|불용어(Stopword) 제거|의미 없는 단어 제거|```\"이것은 좋은 영화입니다.\"``` -> ```\"좋은 영화\"```|\n",
    "|이메일, URL, 전화번호 추출|특정 패턴 찾기|```\"문의: test@email.com\"``` -> ```\"test@email.com\"```|\n",
    "|숫자, 한글, 영어만 추출|원하는 문자만 남기기|```\"가격: 100만원\"``` -> ```\"100\"```|\n",
    "|맞춤법 교정 보조|특수문자, 공백 처리|```\"이것은... 정말... 좋은 영화!\"``` -> ```\"이것은 정말 좋은 영화\"```|"
   ]
  },
  {
   "cell_type": "markdown",
   "metadata": {},
   "source": [
    "### 1. 기본적인 문자 검색 & 매칭"
   ]
  },
  {
   "cell_type": "markdown",
   "metadata": {},
   "source": [
    "|정규표현식|설명|예제|\n",
    "|------|---|---|\n",
    "|```.```|임의의 한 문자 (개행 제외)|```\"a.c\"``` -> ```\"abc\"```, ```\"a_c\"```, ```\"a7c\"```|\n",
    "|```^```|문장의 시작|```\"^hello\"``` -> ```\"hello world\"``` (O), ```\"world hello\"``` (X) |\n",
    "|```$```|문장의 끝|```\"world$\"``` -> ```\"hello world\"``` (O), ```\"world hello\"``` (X)|\n",
    "|```\\b```|단어 경계|```\"r\"\\bcat\\b\"``` -> ```\"I love cat.\"``` (O), ```\"category\"``` (X)|\n",
    "|```\\s```|공백 문자 (스페이스, 탭, 개행 등)|```\"a\\sc\"``` -> ```\"a c\"``` (O), ```\"abc\"``` (X)|"
   ]
  },
  {
   "cell_type": "code",
   "execution_count": null,
   "metadata": {},
   "outputs": [
    {
     "name": "stdout",
     "output_type": "stream",
     "text": [
      "<re.Match object; span=(0, 5), match='hello'>\n",
      "<re.Match object; span=(6, 11), match='world'>\n"
     ]
    }
   ],
   "source": [
    "import re\n",
    "text = \"hello world\"\n",
    "print(re.search(r\"^hello\", text))\n",
    "print(re.search(r\"world$\", text))"
   ]
  },
  {
   "cell_type": "markdown",
   "metadata": {},
   "source": [
    "### 2. 문자 집합 (Character Classes)"
   ]
  },
  {
   "cell_type": "markdown",
   "metadata": {},
   "source": [
    "|정규표현식|설명|예제|\n",
    "|------|---|---|\n",
    "|```[abc]```|a, b, c 중 하나|```\"t[aeiou]st\"``` -> ```\"test\"```, ```\"tost\"```|\n",
    "|```[a-z]```|소문자 a~z 중 하나|```\"Cat123\"``` -> ```'a'```|\n",
    "|```[0-9]```|숫자 0~9 중 하나|```\"world$\"``` -> ```\"hello world\"``` (O), ```\"world hello\"``` (X)|"
   ]
  },
  {
   "cell_type": "code",
   "execution_count": 11,
   "metadata": {},
   "outputs": [
    {
     "name": "stdout",
     "output_type": "stream",
     "text": [
      "<re.Match object; span=(1, 2), match='a'>\n",
      "<re.Match object; span=(0, 1), match='c'>\n"
     ]
    }
   ],
   "source": [
    "text = \"cat\"\n",
    "print(re.search(r\"[aeiou]\", text))\n",
    "print(re.search(r\"[a-z]\", text))"
   ]
  },
  {
   "cell_type": "markdown",
   "metadata": {},
   "source": [
    "### 3. 반복 패턴 (Quantifiers)"
   ]
  },
  {
   "cell_type": "markdown",
   "metadata": {},
   "source": [
    "|정규표현식|설명|예제|\n",
    "|------|---|---|\n",
    "|```*```|0개 이상 반복 (```a*```=\"aaaa\", \"\", \"a\")|```\"ba*\"``` -> ```\"b\"```, ```\"ba\"```, ```\"baaaa\"```|\n",
    "|```+```|1개 이상 반복 (```a+```=\"a\", \"aa\", \"aaa\")|```\"ba+\"``` -> ```\"ba\"```, ```\"baaaa\"``` (O), ```\"b\"``` (X)|\n",
    "|```?```|0개 또는 1개 (```a?```=\"\", \"a\")|```\"ba?\"``` -> ```\"b\"```, ```\"ba\"``` (O)|\n",
    "|```{n}```|정확히 n개 반복|```\"a{3}\"``` -> ```\"aaa\"``` (O), ```\"aa\"```(X)|\n",
    "|```{n,}```|n개 이상 반복|```\"a{2,}\"``` -> ```\"aa\"```, ```\"aaa\"``` (O), ```\"a\"```(X)|\n",
    "|```{n,m}```|n~m개 반복|```\"a{2,4}\"``` -> ```\"aa\"```, ```\"aaa\"```, ```\"aaaa\"``` (O), ```\"a\"```(X)|"
   ]
  },
  {
   "cell_type": "code",
   "execution_count": 12,
   "metadata": {},
   "outputs": [
    {
     "name": "stdout",
     "output_type": "stream",
     "text": [
      "<re.Match object; span=(0, 5), match='baaaa'>\n",
      "<re.Match object; span=(1, 5), match='aaaa'>\n"
     ]
    }
   ],
   "source": [
    "text = \"baaaa\"\n",
    "print(re.search(r\"ba+\", text))\n",
    "print(re.search(r\"a{2,4}\", text))"
   ]
  },
  {
   "cell_type": "markdown",
   "metadata": {},
   "source": [
    "### 4. 숫자, 문자 관련 패턴"
   ]
  },
  {
   "cell_type": "markdown",
   "metadata": {},
   "source": [
    "|정규표현식|설명|예제|\n",
    "|------|---|---|\n",
    "|```\\d```|숫자 (0~9)와 동일|```\"\\d+\"``` -> ```\"123\"```, ```\"42\"```|\n",
    "|```\\D```|숫자가 아닌 문자|```\"\\D+\"``` -> ```\"abc\"```,  ```\"Hello\"```|\n",
    "|```\\w```|알파벳 + 숫자 + ```_``` (단어 문자)|```\"\\w+\"``` -> ```\"hello_42\"```|\n",
    "|```\\W```|단어 문자가 아닌 것|```\"\\W+\"``` -> ```\"@#$%\"```, ```\" \"``` (공백 포함)|"
   ]
  },
  {
   "cell_type": "code",
   "execution_count": 13,
   "metadata": {},
   "outputs": [
    {
     "name": "stdout",
     "output_type": "stream",
     "text": [
      "<re.Match object; span=(4, 7), match='123'>\n",
      "<re.Match object; span=(0, 7), match='User123'>\n"
     ]
    }
   ],
   "source": [
    "text = \"User123\"\n",
    "print(re.search(r\"\\d+\", text))\n",
    "print(re.search(r\"\\w+\", text))"
   ]
  },
  {
   "cell_type": "markdown",
   "metadata": {},
   "source": [
    "### 5. 이메일, URL, 전화번호 검출"
   ]
  },
  {
   "cell_type": "markdown",
   "metadata": {},
   "source": [
    "|정규표현식|설명|예제|\n",
    "|------|---|---|\n",
    "|```\\b[A-Za-z0-9._%+-]+@[A-Za-z0-9.-]+\\.[A-Z\\|a-z]{2,}\\b```|이메일 찾기|```\"example@email.com\"```|\n",
    "|```\\D```|숫자가 아닌 문자|```\"\\D+\"``` -> ```\"abc\"```,  ```\"Hello\"```|\n",
    "|```\\w```|알파벳 + 숫자 + ```_``` (단어 문자)|```\"\\w+\"``` -> ```\"hello_42\"```|\n",
    "|```\\W```|단어 문자가 아닌 것|```\"\\W+\"``` -> ```\"@#$%\"```, ```\" \"``` (공백 포함)|"
   ]
  },
  {
   "cell_type": "code",
   "execution_count": 20,
   "metadata": {},
   "outputs": [
    {
     "name": "stdout",
     "output_type": "stream",
     "text": [
      "<re.Match object; span=(12, 29), match='example@email.com'>\n"
     ]
    }
   ],
   "source": [
    "text = \"My email is example@email.com\"\n",
    "print(re.search(r\"\\b[A-Za-z0-9._%+-]+@[A-Za-z0-9.-]+\\.[A-Z|a-z]{2,}\\b\", text))"
   ]
  },
  {
   "cell_type": "markdown",
   "metadata": {},
   "source": [
    "### 6. 공백 및 특정 문자 제거"
   ]
  },
  {
   "cell_type": "markdown",
   "metadata": {},
   "source": [
    "|정규표현식|설명|예제|\n",
    "|------|---|---|\n",
    "|```\\s+```|모든 공백 (스페이스, 개행 등|```\"Hello World\"``` -> ```\"HelloWorld\"```|\n",
    "|```[^가-힣힣]```|한글 이외 삭제 (한글만 남기기)|```\"안녕하세요! Hello123\"``` -> ```\"안녕하세요\"```,  ```\"Hello\"```|\n",
    "|```[^0-9]```|숫자가 아닌 것 제거 (숫자만 남기기)|```\"전화번호: 010-1234-5678\"``` -> ```\"01012345678\"```|"
   ]
  },
  {
   "cell_type": "code",
   "execution_count": 21,
   "metadata": {},
   "outputs": [
    {
     "name": "stdout",
     "output_type": "stream",
     "text": [
      "안녕하세요\n"
     ]
    }
   ],
   "source": [
    "text = \"안녕하세요! Hello 123\"\n",
    "cleaned_text = re.sub(r\"[^가-힣]\", \"\", text) # 한글만 남기기\n",
    "print(cleaned_text)"
   ]
  },
  {
   "cell_type": "markdown",
   "metadata": {},
   "source": [
    "### 7. 그룹화 & 캡처 (Grouping & Capturing)"
   ]
  },
  {
   "cell_type": "markdown",
   "metadata": {},
   "source": [
    "|정규표현식|설명|예제|\n",
    "|------|---|---|\n",
    "|```(abc)```|그룹화 (괄호 안을 하나의 단위로 묶음)|```\"(ab)+c\"``` -> ```\"abababc\"```|\n",
    "|```(?:abc)```|비캡처 그룹 (결과에서 제외됨)|```\"hello (?:world)\"``` -> ```\"hello world\"```\n",
    "|```(?P<name>abc)```|이름 있는 그룹|```\"(?P<word>\\w+)\"``` -> ```{\"word\": \"hello\"}```|"
   ]
  },
  {
   "cell_type": "code",
   "execution_count": 22,
   "metadata": {},
   "outputs": [
    {
     "name": "stdout",
     "output_type": "stream",
     "text": [
      "('2025', '03', '06')\n"
     ]
    }
   ],
   "source": [
    "text = \"2025-03-06\"\n",
    "match = re.search(r\"(\\d{4})-(\\d{2})-(\\d{2})\", text)\n",
    "print(match.groups())"
   ]
  }
 ],
 "metadata": {
  "kernelspec": {
   "display_name": "py3_9_20",
   "language": "python",
   "name": "py3_9_20"
  },
  "language_info": {
   "codemirror_mode": {
    "name": "ipython",
    "version": 3
   },
   "file_extension": ".py",
   "mimetype": "text/x-python",
   "name": "python",
   "nbconvert_exporter": "python",
   "pygments_lexer": "ipython3",
   "version": "3.9.20"
  }
 },
 "nbformat": 4,
 "nbformat_minor": 2
}
